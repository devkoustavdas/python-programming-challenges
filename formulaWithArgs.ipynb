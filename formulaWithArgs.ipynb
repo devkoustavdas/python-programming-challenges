{
  "metadata": {
    "kernelspec": {
      "name": "python",
      "display_name": "Python (Pyodide)",
      "language": "python"
    },
    "language_info": {
      "codemirror_mode": {
        "name": "python",
        "version": 3
      },
      "file_extension": ".py",
      "mimetype": "text/x-python",
      "name": "python",
      "nbconvert_exporter": "python",
      "pygments_lexer": "ipython3",
      "version": "3.8"
    }
  },
  "nbformat_minor": 4,
  "nbformat": 4,
  "cells": [
    {
      "cell_type": "markdown",
      "source": "**Write a program that calculates and prints the value according to the given formula**\n- Q = Square root of [(2 * C * D)/H] \n- Following are the fixed values: C is 50. H is 30. \n- D is the variable whose values should be input to your program in a comma-separated sequence. \n- Example Let us assume the following comma separated input sequence is given to the program: 100,150,180 The output of the program should be: 18,22,24\n- If the output received is in decimal form, it should be rounded off to its nearest value (for example, if the output received is 26.0, it should be printed as 26)",
      "metadata": {}
    },
    {
      "cell_type": "code",
      "source": "def formula(*D):\n    C = 50\n    H = 30\n    for num in D:\n        Q = round(pow(((2*C*num)/H), 0.5))\n        ans.append(str(Q))\n    print(','.join(ans))",
      "metadata": {
        "trusted": true
      },
      "outputs": [],
      "execution_count": 2
    },
    {
      "cell_type": "code",
      "source": "formula(100,150,180",
      "metadata": {
        "trusted": true
      },
      "outputs": [],
      "execution_count": null
    }
  ]
}