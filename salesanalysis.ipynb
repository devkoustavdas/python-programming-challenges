{
  "metadata": {
    "kernelspec": {
      "name": "python",
      "display_name": "Python (Pyodide)",
      "language": "python"
    },
    "language_info": {
      "codemirror_mode": {
        "name": "python",
        "version": 3
      },
      "file_extension": ".py",
      "mimetype": "text/x-python",
      "name": "python",
      "nbconvert_exporter": "python",
      "pygments_lexer": "ipython3",
      "version": "3.8"
    }
  },
  "nbformat_minor": 4,
  "nbformat": 4,
  "cells": [
    {
      "cell_type": "markdown",
      "source": "**Given a list of sales transactions with order_id, order_date, product, quantity, price, and discount calculate total revenue per product of 2025 and find the top 3 selling products of 2025.**",
      "metadata": {}
    },
    {
      "cell_type": "code",
      "source": "import pandas as pd\nfrom datetime import datetime\n\nimport warnings\nwarnings.filterwarnings('ignore')",
      "metadata": {
        "trusted": true
      },
      "outputs": [],
      "execution_count": 3
    },
    {
      "cell_type": "code",
      "source": "data = {\n    'order_id': [100, 101, 102, 103, 104, 105, 106, 107],\n    'order_date': [\n        datetime(2024, 12, 19),\n        datetime(2025, 1, 15),\n        datetime(2025, 2, 20), \n        datetime(2024, 12, 10),\n        datetime(2025, 3, 5),\n        datetime(2025, 1, 25),\n        datetime(2025, 3, 15),\n        datetime(2026, 1, 5)\n    ],\n    'product': ['Headphone', 'Laptop', 'Mouse', 'Keyboard', 'Laptop', 'Mouse', 'Headphone', 'Mouse'],\n    'quantity': [3, 1, 4, 2, 1, 3, 2, 12],\n    'price': [569, 20000, 125, 275, 1000, 125, 569, 125],\n    'discount': [5.5, 10, 2.5, 4, 10, 2.5, 5.5, 2.5]\n}\n\ndf = pd.DataFrame(data)",
      "metadata": {
        "trusted": true
      },
      "outputs": [],
      "execution_count": 4
    },
    {
      "cell_type": "code",
      "source": "df['order_date'] = pd.to_datetime(df['order_date'])\ndf2025 = df[df['order_date'].dt.year == 2025].copy()\ndf2025['final_price'] = df2025['quantity'] * df2025['price'] * ( 1 - df2025['discount']/100)\n\ntotal_revenue_2025 = df2025['final_price'].sum()\nprint(f\"Total Revenue of 2025: {total_revenue_2025}\\n\")\n\norders_by_product = df2025.groupby('product')['final_price'].sum().sort_values(ascending=False)\nprint(\"Top 3 Products\\n\")\nprint(orders_by_product.head(3))",
      "metadata": {
        "trusted": true
      },
      "outputs": [
        {
          "name": "stdout",
          "text": "20828.535\nproduct\nLaptop       18900.000\nHeadphone     1075.410\nMouse          853.125\nName: final_price, dtype: float64\n",
          "output_type": "stream"
        }
      ],
      "execution_count": 5
    }
  ]
}