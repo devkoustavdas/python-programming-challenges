{
  "metadata": {
    "kernelspec": {
      "name": "python",
      "display_name": "Python (Pyodide)",
      "language": "python"
    },
    "language_info": {
      "codemirror_mode": {
        "name": "python",
        "version": 3
      },
      "file_extension": ".py",
      "mimetype": "text/x-python",
      "name": "python",
      "nbconvert_exporter": "python",
      "pygments_lexer": "ipython3",
      "version": "3.8"
    }
  },
  "nbformat_minor": 4,
  "nbformat": 4,
  "cells": [
    {
      "cell_type": "markdown",
      "source": "**A robot moves in a plane starting from the original point (x0,y0).** \n- The robot can move toward UP, DOWN, LEFT and RIGHT with a given steps.\n- The trace of robot movement is shown in the following format: UP 5 DOWN 3 LEFT 3 RIGHT 2\n- The numbers after the direction are steps.\n- Write a program to compute the distance & direction from origin after a sequence of movement.\n- If the distance is a float, then just round of to 1 decimal.\n- Example: If the following tuples are given as input to the program from the original point (0,0): UP 5 DOWN 3 LEFT 3 RIGHT 2 Then, the output of the program should be: 2",
      "metadata": {}
    },
    {
      "cell_type": "code",
      "source": "def distanceAndDirection(stepInfo, x0 = 0, y0 = 0):\n    stepsList = stepInfo.split(\" \")\n    l = len(stepsList)\n    \n    if l%2 != 0:\n        print(\"Give steps Completely\")\n        return 0\n\n    X, Y = 0, 0\n    for i in range(l):\n        if stepsList[i] == \"UP\":\n            Y += int(stepsList[i+1])\n        elif stepsList[i] == \"DOWN\":\n            Y -= int(stepsList[i+1])\n        elif stepsList[i] == \"RIGHT\":\n            X += int(stepsList[i+1])\n        elif stepsList[i] == \"LEFT\":\n            X -= int(stepsList[i+1])\n        else:\n            pass\n        i += 1\n\n    distance = round(pow((X**2 + Y**2), 2), 1)\n\n    direction = \"\"\n    if X>0:\n        if Y>0:\n            direction = \"NORTH EAST\"\n        elif Y==0:\n            direction = \"EAST\"\n        elif Y<0:\n            direction = \"SOUTH EAST\"\n    elif X<0:\n        if Y>0:\n            direction = \"NORTH WEST\"\n        elif Y==0:\n            direction = \"WEST\"\n        elif Y<0:\n            direction = \"SOUTH WEST\"\n    else:\n        if Y>0:\n            direction = \"NORTH\"\n        elif Y==0:\n            direction = \"ORIGIN\"\n        elif Y<0:\n            direction = \"SOUTH\"\n        \n    print(f\"({x0}, {y0}) -> ({X}, {Y})\\n{distance} units towards {direction}\")",
      "metadata": {
        "trusted": true
      },
      "outputs": [],
      "execution_count": 1
    },
    {
      "cell_type": "code",
      "source": "distanceAndDirection(\"UP 5 DOWN 3 LEFT 3 RIGHT 2\", 0, 0)",
      "metadata": {
        "trusted": true
      },
      "outputs": [
        {
          "name": "stdout",
          "text": "(0, 0) -> (-1, 2)\n25 units towards NORTH WEST\n",
          "output_type": "stream"
        }
      ],
      "execution_count": 2
    }
  ]
}