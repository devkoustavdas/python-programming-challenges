{
  "metadata": {
    "kernelspec": {
      "name": "python",
      "display_name": "Python (Pyodide)",
      "language": "python"
    },
    "language_info": {
      "codemirror_mode": {
        "name": "python",
        "version": 3
      },
      "file_extension": ".py",
      "mimetype": "text/x-python",
      "name": "python",
      "nbconvert_exporter": "python",
      "pygments_lexer": "ipython3",
      "version": "3.8"
    }
  },
  "nbformat_minor": 4,
  "nbformat": 4,
  "cells": [
    {
      "cell_type": "markdown",
      "source": "**Write a program which takes 2 digits, X,Y as input and generates a 2-dimensional numpy matrix.** \n- The element value in the i-th row and j-th column of the array should be i*j.\n- Note: i=0,1..,X-1; j=0,1,...,Y-1.\n- Example Suppose the following inputs are given to the program: 3,5 Then, the output of the program should be: [[0, 0, 0, 0, 0], [0, 1, 2, 3, 4], [0, 2, 4, 6, 8]]",
      "metadata": {}
    },
    {
      "cell_type": "code",
      "source": "import numpy as np",
      "metadata": {
        "trusted": true
      },
      "outputs": [],
      "execution_count": 1
    },
    {
      "cell_type": "code",
      "source": "def makeMatrix(X, Y):\n    array = np.zeros((X, Y))\n    for i in range(X):\n        for j in range(Y):\n            array[i][j] = i*j\n    return array",
      "metadata": {
        "trusted": true
      },
      "outputs": [],
      "execution_count": 2
    },
    {
      "cell_type": "code",
      "source": "print(makeMatrix(3, 5))",
      "metadata": {
        "trusted": true
      },
      "outputs": [
        {
          "name": "stdout",
          "text": "[[0. 0. 0. 0. 0.]\n [0. 1. 2. 3. 4.]\n [0. 2. 4. 6. 8.]]\n",
          "output_type": "stream"
        }
      ],
      "execution_count": 3
    }
  ]
}