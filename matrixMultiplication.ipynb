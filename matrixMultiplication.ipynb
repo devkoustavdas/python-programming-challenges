{
  "metadata": {
    "kernelspec": {
      "name": "python",
      "display_name": "Python (Pyodide)",
      "language": "python"
    },
    "language_info": {
      "codemirror_mode": {
        "name": "python",
        "version": 3
      },
      "file_extension": ".py",
      "mimetype": "text/x-python",
      "name": "python",
      "nbconvert_exporter": "python",
      "pygments_lexer": "ipython3",
      "version": "3.8"
    }
  },
  "nbformat_minor": 4,
  "nbformat": 4,
  "cells": [
    {
      "cell_type": "markdown",
      "source": "**Matrix Multiplication**",
      "metadata": {}
    },
    {
      "cell_type": "code",
      "source": "import numpy as np",
      "metadata": {
        "trusted": true
      },
      "outputs": [],
      "execution_count": 1
    },
    {
      "cell_type": "code",
      "source": "def matrixMultiplication(maxtrixA, matrixB):\n    RA, CA = matrixA.shape\n    RB, CB = matrixB.shape\n\n    if CA != RB:\n        print(\"Matrix Multiplication Not Possible\")\n        return 0\n        \n    X, Y = RA, CB\n    n = CA\n\n    result = np.zeros((X, Y))\n    for i in range(X):\n        for j in range(Y):\n            for k in range(n):\n                result[i][j] += matrixA[i][k]*matrixB[k][j]\n            \n    print(f\"A =\\n{matrixA}\\n\\nB\\n{matrixB}\\n\\nA x B =\\n{result}\")",
      "metadata": {
        "trusted": true
      },
      "outputs": [],
      "execution_count": 2
    },
    {
      "cell_type": "code",
      "source": "matrixA = np.random.randint(10, 19, size=(2, 3))\nmatrixB = np.random.randint(1, 9, size=(3, 4))",
      "metadata": {
        "trusted": true
      },
      "outputs": [],
      "execution_count": 3
    },
    {
      "cell_type": "code",
      "source": "matrixMultiplication(matrixA, matrixB)",
      "metadata": {
        "trusted": true
      },
      "outputs": [
        {
          "name": "stdout",
          "text": "A =\n[[13 15 10]\n [12 10 14]]\n\nB\n[[5 7 2 6]\n [7 2 5 5]\n [3 5 5 2]]\n\nA x B =\n[[200. 171. 151. 173.]\n [172. 174. 144. 150.]]\n",
          "output_type": "stream"
        }
      ],
      "execution_count": 4
    }
  ]
}