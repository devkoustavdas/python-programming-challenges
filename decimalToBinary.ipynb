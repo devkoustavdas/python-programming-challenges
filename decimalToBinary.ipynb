{
  "metadata": {
    "kernelspec": {
      "name": "python",
      "display_name": "Python (Pyodide)",
      "language": "python"
    },
    "language_info": {
      "codemirror_mode": {
        "name": "python",
        "version": 3
      },
      "file_extension": ".py",
      "mimetype": "text/x-python",
      "name": "python",
      "nbconvert_exporter": "python",
      "pygments_lexer": "ipython3",
      "version": "3.8"
    }
  },
  "nbformat_minor": 4,
  "nbformat": 4,
  "cells": [
    {
      "cell_type": "markdown",
      "source": "**Change the number base: Convert Decimal to Binary**\n- Input could be of any length",
      "metadata": {}
    },
    {
      "cell_type": "code",
      "source": "def decimalToBinary(*num):\n    for item in num:\n        if not isinstance(item, int):\n            print(f\"Error: {item} is not an integer. Skipping.\")\n            continue\n        binary, remainder, k = 0,0,0\n        if item < 0:\n            print(f\"Error: Cannot convert negative number {item}. Give Natural Numbers.\")\n            continue\n        elif item == 0:\n            binary = 0\n        elif item == 1:\n            binary = 1\n        else:\n            copiedItem = item\n            while (copiedItem > 0):\n                remainder = copiedItem % 2\n                binary += remainder*pow(10, k) \n                copiedItem = copiedItem // 2\n                k += 1\n        print(f\"{item} (Decimal) -> {binary} (Binary)\")",
      "metadata": {
        "trusted": true
      },
      "outputs": [],
      "execution_count": 3
    },
    {
      "cell_type": "code",
      "source": "decimalToBinary(0, 1, 3, 10, 12, 21, 33, -3, 2.25, 65)",
      "metadata": {
        "trusted": true
      },
      "outputs": [
        {
          "name": "stdout",
          "text": "0 (Decimal) -> 0 (Binary)\n1 (Decimal) -> 1 (Binary)\n3 (Decimal) -> 11 (Binary)\n10 (Decimal) -> 1010 (Binary)\n12 (Decimal) -> 1100 (Binary)\n21 (Decimal) -> 10101 (Binary)\n33 (Decimal) -> 100001 (Binary)\nError: Cannot convert negative number -3. Give Natural Numbers.\nError: 2.25 is not an integer. Skipping.\n65 (Decimal) -> 1000001 (Binary)\n",
          "output_type": "stream"
        }
      ],
      "execution_count": 4
    }
  ]
}