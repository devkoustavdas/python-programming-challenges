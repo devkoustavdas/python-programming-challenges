{
  "metadata": {
    "kernelspec": {
      "name": "python",
      "display_name": "Python (Pyodide)",
      "language": "python"
    },
    "language_info": {
      "codemirror_mode": {
        "name": "python",
        "version": 3
      },
      "file_extension": ".py",
      "mimetype": "text/x-python",
      "name": "python",
      "nbconvert_exporter": "python",
      "pygments_lexer": "ipython3",
      "version": "3.8"
    }
  },
  "nbformat_minor": 4,
  "nbformat": 4,
  "cells": [
    {
      "cell_type": "markdown",
      "source": "**Write a program which will find all such numbers which are divisible by 13 but are not a multiple of 5, between 21800 and 22800 (both included). The numbers obtained should be printed in a comma-separated sequence on a single line.**",
      "metadata": {}
    },
    {
      "cell_type": "code",
      "source": "def checkDivisibility(range_start, range_end, divisible_by, divisible_not=None):\n    numlist = []\n    for num in range(range_start, range_end):\n        if num % divisible_by == 0:\n            if divisible_not:\n                if num % divisible_not != 0:\n                    numlist.append(str(num))\n            else:\n                numlist.append(str(num))\n    print(','.join(numlist))",
      "metadata": {
        "trusted": true
      },
      "outputs": [],
      "execution_count": 1
    },
    {
      "cell_type": "code",
      "source": "checkDivisibility(21800, 22800, 13, 5)",
      "metadata": {
        "trusted": true
      },
      "outputs": [
        {
          "name": "stdout",
          "text": "21801,21814,21827,21853,21866,21879,21892,21918,21931,21944,21957,21983,21996,22009,22022,22048,22061,22074,22087,22113,22126,22139,22152,22178,22191,22204,22217,22243,22256,22269,22282,22308,22321,22334,22347,22373,22386,22399,22412,22438,22451,22464,22477,22503,22516,22529,22542,22568,22581,22594,22607,22633,22646,22659,22672,22698,22711,22724,22737,22763,22776,22789\n",
          "output_type": "stream"
        }
      ],
      "execution_count": 2
    }
  ]
}